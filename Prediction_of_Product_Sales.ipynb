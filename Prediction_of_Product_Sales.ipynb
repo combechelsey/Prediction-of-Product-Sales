{
  "nbformat": 4,
  "nbformat_minor": 0,
  "metadata": {
    "colab": {
      "provenance": [],
      "authorship_tag": "ABX9TyPCSy8iMwF3G5nSJKH/OWeG",
      "include_colab_link": true
    },
    "kernelspec": {
      "name": "python3",
      "display_name": "Python 3"
    },
    "language_info": {
      "name": "python"
    }
  },
  "cells": [
    {
      "cell_type": "markdown",
      "metadata": {
        "id": "view-in-github",
        "colab_type": "text"
      },
      "source": [
        "<a href=\"https://colab.research.google.com/github/combechelsey/Prediction-of-Product-Sales-2/blob/main/Prediction_of_Product_Sales.ipynb\" target=\"_parent\"><img src=\"https://colab.research.google.com/assets/colab-badge.svg\" alt=\"Open In Colab\"/></a>"
      ]
    },
    {
      "cell_type": "code",
      "execution_count": null,
      "metadata": {
        "id": "OxNLj1m7LwC5"
      },
      "outputs": [],
      "source": []
    },
    {
      "cell_type": "markdown",
      "source": [
        "#**Prediction of Product Sales**\n",
        "#### Chelsey Combe\n",
        "---\n"
      ],
      "metadata": {
        "id": "-5cvEFSEMAIn"
      }
    },
    {
      "cell_type": "markdown",
      "source": [
        "##Project Overview"
      ],
      "metadata": {
        "id": "RIbxqjsFMWaS"
      }
    },
    {
      "cell_type": "markdown",
      "source": [
        "## Load and Inspect Data"
      ],
      "metadata": {
        "id": "NVsnu9_SMWpT"
      }
    },
    {
      "cell_type": "code",
      "source": [],
      "metadata": {
        "id": "w6EqxS2HNiaJ"
      },
      "execution_count": null,
      "outputs": []
    },
    {
      "cell_type": "markdown",
      "source": [
        "##Clean Data"
      ],
      "metadata": {
        "id": "dBLFCbeyMW2L"
      }
    },
    {
      "cell_type": "code",
      "source": [],
      "metadata": {
        "id": "hg9SYcSVNi_D"
      },
      "execution_count": null,
      "outputs": []
    },
    {
      "cell_type": "markdown",
      "source": [
        "##Exploratory Data Analysis"
      ],
      "metadata": {
        "id": "ANTQgXlwMXEe"
      }
    },
    {
      "cell_type": "code",
      "source": [],
      "metadata": {
        "id": "hTQSBPMdNjib"
      },
      "execution_count": null,
      "outputs": []
    },
    {
      "cell_type": "markdown",
      "source": [
        "##Explanatory Data Analysis "
      ],
      "metadata": {
        "id": "mGMdPkDaMXQi"
      }
    },
    {
      "cell_type": "code",
      "source": [],
      "metadata": {
        "id": "Wp0c4OyeNkP3"
      },
      "execution_count": null,
      "outputs": []
    }
  ]
}